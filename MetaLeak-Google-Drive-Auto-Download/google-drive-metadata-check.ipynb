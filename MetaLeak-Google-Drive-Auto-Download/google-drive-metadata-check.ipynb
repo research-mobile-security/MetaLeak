{
 "cells": [
  {
   "cell_type": "code",
   "execution_count": 247,
   "id": "1bd28982",
   "metadata": {},
   "outputs": [],
   "source": [
    "from exif import Image\n",
    "import os\n",
    "import time\n",
    "import glob\n",
    "from selenium import webdriver\n",
    "from selenium.webdriver.chrome.options import Options\n",
    "from selenium.common.exceptions import NoSuchElementException\n",
    "import undetected_chromedriver as uc\n",
    "from selenium.webdriver.common.by import By\n",
    "import requests\n",
    "import pandas as pd\n",
    "import os\n",
    "import urllib.parse\n",
    "import threading\n",
    "from time import sleep\n",
    "from threading import Thread\n",
    "import glob\n",
    "import shutil"
   ]
  },
  {
   "cell_type": "code",
   "execution_count": 248,
   "id": "769ccef7",
   "metadata": {},
   "outputs": [],
   "source": [
    "image_path = \"C:\\\\Users\\\\ASUS\\\\anaconda3\\\\phd_implement\\\\image_metadata\\\\\"\n",
    "checkingMetaDataList = [\"2023:03:08 17:05:59\",\"(45.0, 47.0, 41.56404)\",\"(8.0, 50.0, 41.838)\",\"444.0\"]"
   ]
  },
  {
   "cell_type": "code",
   "execution_count": 249,
   "id": "8389a585",
   "metadata": {},
   "outputs": [],
   "source": [
    "def getImageMetaData(image_path:str, image_name:str):\n",
    "    img_path = image_path+image_name\n",
    "    img = \"\"\n",
    "    metadata_array = []\n",
    "    with open(img_path, 'rb') as image_file:\n",
    "        img = Image(image_file) \n",
    "    haveMetaData = img.has_exif\n",
    "    if(haveMetaData):\n",
    "        meta_key = img.list_all()\n",
    "        for i in range(len(meta_key)):\n",
    "            metadata = str(meta_key[i]) +\":\"+ str(img.get(meta_key[i]))\n",
    "            metadata_array.append(metadata)\n",
    "    return metadata_array"
   ]
  },
  {
   "cell_type": "code",
   "execution_count": 250,
   "id": "ec499533",
   "metadata": {},
   "outputs": [],
   "source": [
    "def checkLeakingMetaData(downloadImageMetaDataList: list, checkingMetaDataList: list):\n",
    "    for a in range(len(checkingMetaDataList)):\n",
    "        checkingMetaData = checkingMetaDataList[a]\n",
    "        for b in range(len(downloadImageMetaDataList)):\n",
    "            downloadImageMetaData = downloadImageMetaDataList[b]\n",
    "            if(checkingMetaData in checkingMetaData):\n",
    "                if a==0:\n",
    "                    print(\"Leak date taken\")\n",
    "                    break\n",
    "                elif a==1:\n",
    "                    print(\"Leak gps_latitude\")\n",
    "                    break\n",
    "                elif a==2:\n",
    "                    print(\"Leak gps_longitude\")\n",
    "                    break\n",
    "                elif a==3:\n",
    "                    print(\"Leak gps_altitude\")\n",
    "                    break\n",
    "                else:\n",
    "                    print(\"No leak information\")\n",
    "                    break"
   ]
  },
  {
   "cell_type": "code",
   "execution_count": 251,
   "id": "83c5dd09",
   "metadata": {},
   "outputs": [],
   "source": [
    "# 1. Get list app download link\n",
    "# 1.1 Setup selenium\n",
    "chromedriver = 'chromedriver.exe'\n",
    "os.environ[\"webdriver.chrome.driver\"] = chromedriver\n",
    "chrome_options = Options()\n",
    "chrome_options.add_argument(\"--disable-blink-features=AutomationControlled\")\n",
    "chrome_options.add_argument(\"--disable-popup-blocking\")\n",
    "chrome_options.add_argument('--ignore-ssl-errors=yes')\n",
    "chrome_options.add_argument('--ignore-certificate-errors')\n",
    "chrome_options.add_argument('--no-proxy-server')\n",
    "prefs = {\n",
    "        'profile.default_content_setting_values.automatic_downloads': 1,\n",
    "        \"download.default_directory\" : \"C:\\\\Users\\\\ASUS\\\\anaconda3\\\\phd_implement\\\\image_metadata\"\n",
    "}\n",
    "chrome_options.add_experimental_option(\"prefs\", prefs)\n",
    "# 1.2 Open webpage\n",
    "web = webdriver.Chrome(options=chrome_options)\n",
    "web.maximize_window()\n",
    "google_drive_path = \"https://drive.google.com/drive/folders/1kIKPisbtMYMP6BZT_BFnXhEGHkDpBQQh\"\n",
    "web.get(google_drive_path)\n",
    "time.sleep(10)\n",
    "# 1.3 Get image name\n",
    "image_name = web.find_element(By.CLASS_NAME, \"KL4NAf\").text\n",
    "# 1.4 Click download image\n",
    "image=web.find_element(By.CSS_SELECTOR,\"div[class='tyTrke M3pype']\")\n",
    "image.click()\n",
    "# 1.5 Download image\n",
    "download=web.find_element(By.CSS_SELECTOR,\"div[class='a-b-Da-d a-b-od-d h-sb-Ic a-b-d a-b-od-d-gc-c']\")\n",
    "download.click()\n",
    "time.sleep(15)\n",
    "web.close()"
   ]
  },
  {
   "cell_type": "code",
   "execution_count": 252,
   "id": "80b34cdc",
   "metadata": {},
   "outputs": [
    {
     "name": "stdout",
     "output_type": "stream",
     "text": [
      "Leak date taken\n",
      "Leak gps_latitude\n",
      "Leak gps_longitude\n",
      "Leak gps_altitude\n"
     ]
    }
   ],
   "source": [
    "# 2.Read image metadata\n",
    "downloadImageMetaDataList = getImageMetaData(image_path, image_name)\n",
    "# 3.Check leak sensitive metadata or not\n",
    "checkLeakingMetaData(downloadImageMetaDataList,checkingMetaDataList)"
   ]
  }
 ],
 "metadata": {
  "kernelspec": {
   "display_name": "Python 3 (ipykernel)",
   "language": "python",
   "name": "python3"
  },
  "language_info": {
   "codemirror_mode": {
    "name": "ipython",
    "version": 3
   },
   "file_extension": ".py",
   "mimetype": "text/x-python",
   "name": "python",
   "nbconvert_exporter": "python",
   "pygments_lexer": "ipython3",
   "version": "3.9.13"
  }
 },
 "nbformat": 4,
 "nbformat_minor": 5
}
