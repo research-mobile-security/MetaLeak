{
 "cells": [
  {
   "cell_type": "markdown",
   "id": "d06918a8",
   "metadata": {},
   "source": [
    "# STATIC ANALYSIS "
   ]
  },
  {
   "cell_type": "code",
   "execution_count": 1,
   "id": "61f39f26",
   "metadata": {},
   "outputs": [],
   "source": [
    "from typing import Dict\n",
    "import yaml\n",
    "import json\n",
    "import glob\n",
    "import os\n",
    "import requests\n",
    "from requests.structures import CaseInsensitiveDict\n",
    "import string\n",
    "import random\n",
    "from collections import defaultdict\n",
    "import ast\n",
    "import time\n",
    "import pandas as pd\n",
    "import urllib.parse\n",
    "import threading\n",
    "from time import sleep\n",
    "from threading import Thread\n",
    "import shutil"
   ]
  },
  {
   "cell_type": "code",
   "execution_count": 2,
   "id": "3d815cf4",
   "metadata": {},
   "outputs": [],
   "source": [
    "# Function CURL GET\n",
    "def curl_get(url: str,MOBSF_API_KEY):\n",
    "    headers = CaseInsensitiveDict()\n",
    "    headers[\"X-Mobsf-Api-Key\"] = MOBSF_API_KEY\n",
    "    response = requests.get(url, headers = headers)\n",
    "    return byteStringToDict(response.content),response.status_code"
   ]
  },
  {
   "cell_type": "code",
   "execution_count": 3,
   "id": "c25cd59e",
   "metadata": {},
   "outputs": [],
   "source": [
    "# Function CURL POST\n",
    "def curl_post(url, data, MOBSF_API_KEY):\n",
    "    headers = CaseInsensitiveDict()\n",
    "    #headers[\"Content-Type\"] = \"application/json\"\n",
    "    headers[\"X-Mobsf-Api-Key\"] = MOBSF_API_KEY\n",
    "    response = requests.post(url, data, headers=headers)\n",
    "    return stringToDict(response.text),response.status_code"
   ]
  },
  {
   "cell_type": "code",
   "execution_count": 4,
   "id": "d60a03e6",
   "metadata": {},
   "outputs": [],
   "source": [
    "# Function UPLOAD file curl POST\n",
    "def curl_upload_post(url, file_name, file_path, MOBSF_API_KEY):\n",
    "    payload = {}\n",
    "    files=[\n",
    "          ('file',(file_name,open(file_path,'rb'),'application/octet-stream'))\n",
    "    ]\n",
    "    headers = {\n",
    "      'X-Mobsf-Api-Key': MOBSF_API_KEY\n",
    "    }\n",
    "    response = requests.request(\"POST\", url, headers=headers, data=payload, files=files)\n",
    "    return stringToDict(response.text),response.status_code"
   ]
  },
  {
   "cell_type": "code",
   "execution_count": 5,
   "id": "dbce07ef",
   "metadata": {},
   "outputs": [],
   "source": [
    "# Function Byte String to Dict\n",
    "def byteStringToDict(byteString: bytes):\n",
    "    dict_str = byteString.decode(\"UTF-8\")\n",
    "    mydata = ast.literal_eval(dict_str)\n",
    "    return mydata"
   ]
  },
  {
   "cell_type": "code",
   "execution_count": 6,
   "id": "191a6aaa",
   "metadata": {},
   "outputs": [],
   "source": [
    "# Function String to Dict\n",
    "def stringToDict(stringText: str):\n",
    "    res = json.loads(stringText)\n",
    "    return res"
   ]
  },
  {
   "cell_type": "code",
   "execution_count": 7,
   "id": "a95d93b6",
   "metadata": {},
   "outputs": [],
   "source": [
    "# Function Dict to JSON\n",
    "def dictToJson(dictionary: dict):\n",
    "    json_object = json.dumps(dictionary, indent = 4) \n",
    "    return json_object"
   ]
  },
  {
   "cell_type": "code",
   "execution_count": 8,
   "id": "7a4c96bd",
   "metadata": {},
   "outputs": [],
   "source": [
    "# Function Write JSON to FIle\n",
    "def writeJSONToFile(filename: str, jsonString: str):\n",
    "    with open(filename, 'w') as outfile:\n",
    "        outfile.write(jsonString)"
   ]
  },
  {
   "cell_type": "code",
   "execution_count": 9,
   "id": "f26d364f",
   "metadata": {},
   "outputs": [],
   "source": [
    "# Function convert list to string\n",
    "def listToString(listData: list):\n",
    "    listToStr = '\\n'.join([str(elem) for elem in listData])\n",
    "    return listToStr"
   ]
  },
  {
   "cell_type": "code",
   "execution_count": 10,
   "id": "c9d20ee0",
   "metadata": {},
   "outputs": [],
   "source": [
    "# Class Generate APK DATA FORM for CURL POST\n",
    "class CurlPostDataForm(dict):\n",
    "    def __setitem__(self, key, value):\n",
    "        super().__setitem__(key, value)"
   ]
  },
  {
   "cell_type": "code",
   "execution_count": 11,
   "id": "31984114",
   "metadata": {},
   "outputs": [],
   "source": [
    "def checkFileOrDirectoryExist(path):\n",
    "    if os.path.exists(path):\n",
    "        return True\n",
    "    else:\n",
    "        return False"
   ]
  },
  {
   "cell_type": "code",
   "execution_count": 12,
   "id": "dedb9bd3",
   "metadata": {},
   "outputs": [],
   "source": [
    "def prepareEnvironment(apk_file_path: str,directory_name: str):\n",
    "    check_directory_exist = checkFileOrDirectoryExist(apk_file_path+\"static_analysis\")\n",
    "    if(check_directory_exist == False):\n",
    "        os.mkdir(apk_file_path+\"static_analysis\")\n",
    "        return \"Mkdir directory static_analysis success!\"\n",
    "    else:\n",
    "        return \"Directory is static_analysis existed!\""
   ]
  },
  {
   "cell_type": "code",
   "execution_count": 13,
   "id": "359d8e3b",
   "metadata": {},
   "outputs": [],
   "source": [
    "# CONSTANT VALUE\n",
    "MOBSF_SERVER = \"192.168.1.20\"\n",
    "#MOBSF_SERVER = \"193.206.183.20\"\n",
    "MOBSF_PORT = \"8000\"\n",
    "MOBSF_API_KEY = \"fa81deec8c83e903fa85dab8e3e3a7b1f4ac191f2bf1ba984be01b14b9698e66\"\n",
    "#MOBSF_API_KEY = \"345452a72a7b1a8935e712ed06364bda91d1c622a774210115a7c0c43c66929e\"\n",
    "category_name = \"photography\"\n",
    "apk_scan_url = \"http://\"+MOBSF_SERVER+\":\"+MOBSF_PORT+\"/api/v1/scans?page=1&page_size=10\"\n",
    "apk_generate_JSON_report_url = \"http://\"+MOBSF_SERVER+\":\"+MOBSF_PORT+\"/api/v1/report_json\"\n",
    "apk_scan_file_url = \"http://\"+MOBSF_SERVER+\":\"+MOBSF_PORT+\"/api/v1/scan\"\n",
    "apk_upload_url = \"http://\"+MOBSF_SERVER+\":\"+MOBSF_PORT+\"/api/v1/upload\"\n",
    "apk_delete_scan_url = \"http://\"+MOBSF_SERVER+\":\"+MOBSF_PORT+\"/api/v1/delete_scan\"\n",
    "#apk_file_path = \"C:\\\\Users\\\\ASUS\\\\anaconda3\\\\phd_implement\\\\\"+category_name+\"_category\\\\\"\n",
    "apk_file_path = \"C:\\\\Users\\\\ASUS\\\\anaconda3\\\\phd_implement\\\\photography_category\\\\\"\n",
    "#static_analysis_report = \"C:\\\\Users\\\\ASUS\\\\anaconda3\\\\phd_implement\\\\\"+category_name+\"_category\\\\static_analysis\\\\\"\n",
    "static_analysis_report = \"C:\\\\Users\\\\ASUS\\\\anaconda3\\metadata-gdpr-client\\\\static_analysis\\\\\"\n",
    "result_csv_path = \"C:\\\\Users\\\\ASUS\\\\anaconda3\\\\metadata-gdpr-client\\\\leaking_list_report.csv\""
   ]
  },
  {
   "cell_type": "code",
   "execution_count": 14,
   "id": "6b15bc5c",
   "metadata": {},
   "outputs": [
    {
     "name": "stdout",
     "output_type": "stream",
     "text": [
      "Directory is static_analysis existed!\n",
      "Reading file photography_static_analysis.csv\n",
      "Static analysis done index: 985\n"
     ]
    }
   ],
   "source": [
    "# 1. Read CSV file\n",
    "# 1.0 Prepare environment\n",
    "create_directory = prepareEnvironment(apk_file_path,\"static_analysis\")\n",
    "print(create_directory)\n",
    "# 1.1 Read CSV file\n",
    "df = \"\"\n",
    "#check_file_exist = checkFileOrDirectoryExist(\"C:\\\\Users\\\\ASUS\\\\anaconda3\\\\phd_implement\\\\\"+category_name+\"_category\\\\\"+category_name+\"_static_analysis.csv\")\n",
    "check_file_exist = checkFileOrDirectoryExist(\"C:\\\\Users\\\\ASUS\\\\anaconda3\\\\metadata-gdpr-client\\\\leaking_list_report_static_analysis.csv\")\n",
    "if(check_file_exist):\n",
    "    #df = pd.read_csv(\"C:\\\\Users\\\\ASUS\\\\anaconda3\\\\phd_implement\\\\\"+category_name+\"_category\\\\\"+category_name+\"_static_analysis.csv\",low_memory=False)\n",
    "    df = pd.read_csv(\"C:\\\\Users\\\\ASUS\\\\anaconda3\\\\metadata-gdpr-client\\\\leaking_list_report_static_analysis.csv\",low_memory=False)\n",
    "    print(\"Reading file \"+category_name+\"_static_analysis.csv\")\n",
    "else:\n",
    "    #df = pd.read_csv(\"C:\\\\Users\\\\ASUS\\\\anaconda3\\\\phd_implement\\\\\"+category_name+\"_category\\\\\"+category_name+\"_apk_popular.csv\",low_memory=False)\n",
    "    df = pd.read_csv(result_csv_path,low_memory=False)\n",
    "    print(\"Reading file \"+category_name+\"_apk_popular.csv\")\n",
    "#drop_duplicates = df.drop_duplicates(subset=['pkg_name'])\n",
    "#pkg_name_arr = drop_duplicates[\"pkg_name\"]\n",
    "pkg_name_arr = df[\"pkg_name\"]\n",
    "#apkfile_name_arr = drop_duplicates[\"apkfile_name\"]\n",
    "apkfile_name_arr = df[\"apkfile_name\"]\n",
    "#pkg_name_arr = drop_duplicates[\"pkg_name\"]\n",
    "#apkfile_name_arr = drop_duplicates[\"apkfile_name\"]\n",
    "# 1.2 Check completed static analysis\n",
    "#static_analysis_done_index = drop_duplicates[(drop_duplicates.manifest_permission.isnull())].index[0]\n",
    "static_analysis_done_index = df[(df.manifest_permission.isnull())].index[0]\n",
    "print(\"Static analysis done index: \"+str(static_analysis_done_index))"
   ]
  },
  {
   "cell_type": "code",
   "execution_count": 15,
   "id": "630b1979",
   "metadata": {},
   "outputs": [
    {
     "name": "stdout",
     "output_type": "stream",
     "text": [
      "----------------------------------------------[1092]----------------------------------------------\n",
      "Apk file name: LINE_13.13.2_apkcombo.com.apk\n",
      "File LINE_13.13.2_apkcombo.com.apk founded!\n",
      "Upload file LINE_13.13.2_apkcombo.com.apk success!\n",
      "Static analysis LINE_13.13.2_apkcombo.com.apk completed!\n",
      "['android.permission.CAMERA', 'android.permission.VIBRATE', 'android.permission.READ_CONTACTS', 'android.permission.INTERNET', 'android.permission.READ_PHONE_STATE', 'android.permission.READ_PHONE_NUMBERS', 'android.permission.CALL_PHONE', 'android.permission.ACCESS_COARSE_LOCATION', 'android.permission.ACCESS_FINE_LOCATION', 'android.permission.READ_MEDIA_VIDEO', 'android.permission.READ_MEDIA_IMAGES', 'android.permission.READ_MEDIA_AUDIO', 'android.permission.READ_EXTERNAL_STORAGE', 'android.permission.WRITE_EXTERNAL_STORAGE', 'android.permission.ACCESS_NETWORK_STATE', 'android.permission.ACCESS_WIFI_STATE', 'android.permission.CHANGE_WIFI_STATE', 'android.permission.POST_NOTIFICATIONS', 'com.android.vending.BILLING', 'android.permission.BLUETOOTH', 'android.permission.BLUETOOTH_ADMIN', 'android.permission.BLUETOOTH_SCAN', 'android.permission.BLUETOOTH_CONNECT', 'android.permission.FOREGROUND_SERVICE_CONNECTED_DEVICE', 'android.permission.GET_ACCOUNTS', 'android.permission.USE_BIOMETRIC', 'com.android.launcher.permission.INSTALL_SHORTCUT', 'com.kddi.market.permission.USE_ALML', 'com.sonymobile.home.permission.PROVIDER_INSERT_BADGE', 'com.huawei.android.launcher.permission.CHANGE_BADGE', 'com.huawei.android.launcher.permission.READ_SETTINGS', 'com.huawei.android.launcher.permission.WRITE_SETTINGS', 'android.permission.SYSTEM_ALERT_WINDOW', 'android.permission.NFC', 'android.permission.FOREGROUND_SERVICE', 'android.permission.WRITE_CONTACTS', 'android.permission.WRITE_SYNC_SETTINGS', 'android.permission.READ_SYNC_SETTINGS', 'android.permission.READ_SYNC_STATS', 'android.permission.REQUEST_IGNORE_BATTERY_OPTIMIZATIONS', 'android.permission.RECORD_AUDIO', 'android.permission.MODIFY_AUDIO_SETTINGS', 'android.permission.WAKE_LOCK', 'android.permission.DISABLE_KEYGUARD', 'android.permission.USE_FULL_SCREEN_INTENT', 'android.permission.HIGH_SAMPLING_RATE_SENSORS', 'android.permission.USE_FINGERPRINT', 'android.permission.GET_TASKS', 'com.google.android.gms.permission.AD_ID', 'com.google.android.c2dm.permission.RECEIVE', 'jp.naver.line.android.DYNAMIC_RECEIVER_NOT_EXPORTED_PERMISSION', 'com.google.android.finsky.permission.BIND_GET_INSTALL_REFERRER_SERVICE']\n",
      "Deleted scan file LINE_13.13.2_apkcombo.com.apk success!\n",
      "----------------------------------------------[1093]----------------------------------------------\n",
      "Apk file name: Amazon_Photos.apk\n",
      "File Amazon_Photos.apk founded!\n",
      "Upload file Amazon_Photos.apk success!\n",
      "Static analysis Amazon_Photos.apk completed!\n",
      "['android.permission.INTERNET', 'android.permission.READ_EXTERNAL_STORAGE', 'android.permission.WRITE_EXTERNAL_STORAGE', 'android.permission.READ_CONTACTS', 'android.permission.DOWNLOAD_WITHOUT_NOTIFICATION', 'android.permission.WAKE_LOCK', 'android.permission.ACCESS_NETWORK_STATE', 'android.permission.ACCESS_MEDIA_LOCATION', 'amazon.permission.COLLECT_METRICS', 'com.amazon.identity.permission.CAN_CALL_MAP_INFORMATION_PROVIDER', 'com.amazon.dcp.sso.permission.MANAGE_COR_PFM', 'com.amazon.dcp.sso.permission.AmazonAccountPropertyService.property.changed', 'com.google.android.gms.permission.AD_ID', 'com.amazon.dcp.metrics.permission.METRICS_PERMISSION', 'com.amazon.dcp.config.permission.DYN_CONFIG_VALUES_UPDATED', 'android.permission.GET_ACCOUNTS', 'android.permission.USE_CREDENTIALS', 'android.permission.MANAGE_ACCOUNTS', 'android.permission.AUTHENTICATE_ACCOUNTS', 'com.amazon.identity.auth.device.perm.AUTH_SDK', 'com.amazon.identity.permission.GENERIC_IPC', 'com.amazon.dcp.sso.permission.USE_DEVICE_CREDENTIALS', 'com.amazon.dcp.sso.permission.account.changed', 'com.amazon.dcp.sso.permission.CUSTOMER_ATTRIBUTE_SERVICE', 'com.amazon.identity.permission.CALL_AMAZON_DEVICE_INFORMATION_PROVIDER', 'com.amazon.appmanager.preload.permission.READ_PRELOAD_DEVICE_INFO_PROVIDER', 'android.permission.FOREGROUND_SERVICE', 'android.permission.ACCESS_WIFI_STATE', 'com.google.android.c2dm.permission.RECEIVE', 'android.permission.RECEIVE_BOOT_COMPLETED', 'com.android.vending.BILLING', 'com.google.android.finsky.permission.BIND_GET_INSTALL_REFERRER_SERVICE']\n",
      "Deleted scan file Amazon_Photos.apk success!\n"
     ]
    }
   ],
   "source": [
    "# 2. Static Analysis\n",
    "len_apkfile_name_arr=len(apkfile_name_arr)\n",
    "#for apk_num in range(static_analysis_done_index,len_apkfile_name_arr):\n",
    "for apk_num in range(1092,len_apkfile_name_arr):\n",
    "    try:\n",
    "        print(\"----------------------------------------------[\"+str(apk_num)+\"]----------------------------------------------\")\n",
    "        apkfile_name = apkfile_name_arr[apk_num]\n",
    "        print(\"Apk file name: \"+apkfile_name)\n",
    "        index = int(df[df['apkfile_name']==apkfile_name].index.values)\n",
    "        #print(index)\n",
    "        # 2.1 Upload file to MOBSF server\n",
    "        check_apk_exist = checkFileOrDirectoryExist(apk_file_path+apkfile_name)\n",
    "        upload_response = \"\"\n",
    "        upload_code = 0\n",
    "        if(check_apk_exist):\n",
    "            print(\"File \"+apkfile_name+\" founded!\")\n",
    "            upload_response,upload_code = curl_upload_post(apk_upload_url,apkfile_name,apk_file_path+apkfile_name, MOBSF_API_KEY)\n",
    "        else:\n",
    "            print(\"APK file \"+apkfile_name+\" not found!\")\n",
    "            #drop_duplicates.loc[index,\"manifest_permission\"]=\"APK not found!\"\n",
    "            df.loc[index,\"manifest_permission\"]=\"APK not found!\"\n",
    "            continue\n",
    "        apk_upload_hash = \"\"\n",
    "        scan_type = \"\"\n",
    "        apk_permission = []\n",
    "        if(upload_code==200):\n",
    "            apk_upload_hash = upload_response['hash']\n",
    "            scan_type = upload_response['scan_type']\n",
    "            print(\"Upload file \"+apkfile_name+\" success!\")\n",
    "        else:\n",
    "            print(\"Upload file \"+apkfile_name+\" error!\")\n",
    "            #drop_duplicates.loc[index,\"manifest_permission\"]=\"Upload file failed!\"\n",
    "            df.loc[index,\"manifest_permission\"]=\"Upload file failed!\"\n",
    "            continue\n",
    "        #print(apk_upload_hash)\n",
    "        #print(scan_type)\n",
    "        # 2.2 Scan uploaded file\n",
    "        scan_data = CurlPostDataForm()\n",
    "        scan_data[\"scan_type\"] = scan_type\n",
    "        scan_data[\"file_name\"] = apkfile_name\n",
    "        scan_data[\"hash\"] = apk_upload_hash\n",
    "        #print(scan_data)\n",
    "        scan_response,scan_code = curl_post(apk_scan_file_url,scan_data, MOBSF_API_KEY)\n",
    "    #     print(scan_code)\n",
    "    #     print(type(scan_code))\n",
    "    #     apk_permission = list(scan_response[\"permissions\"].keys())\n",
    "        #time.sleep(400)\n",
    "        if(scan_code==200):\n",
    "            apk_permission = list(scan_response[\"permissions\"].keys())\n",
    "            print(\"Static analysis \"+apkfile_name+\" completed!\")\n",
    "        else:\n",
    "            print(\"Static analysis \"+apkfile_name+\" failed!\")\n",
    "            #drop_duplicates.loc[index,\"manifest_permission\"]=\"Static analysis failed!\"\n",
    "            df.loc[index,\"manifest_permission\"]=\"Static analysis failed!\"\n",
    "            delete_data = CurlPostDataForm()\n",
    "            delete_data[\"hash\"] = apk_upload_hash\n",
    "            delete_response,delete_code = curl_post(apk_delete_scan_url, delete_data, MOBSF_API_KEY)\n",
    "            continue\n",
    "        print(apk_permission)\n",
    "        # 2.3 Write static analysis report to JSON\n",
    "        writeJSONToFile(static_analysis_report+apkfile_name+\".json\",dictToJson(scan_response))\n",
    "        # 2.4 Update csv permission\n",
    "        if(len(apk_permission)==0):\n",
    "            #drop_duplicates.loc[index,\"manifest_permission\"]=\"Not found permission\"\n",
    "            df.loc[index,\"manifest_permission\"]=\"Not found permission\"\n",
    "        else:\n",
    "            #drop_duplicates.loc[index,\"manifest_permission\"]=listToString(apk_permission)\n",
    "            df.loc[index,\"manifest_permission\"]=listToString(apk_permission)\n",
    "        #drop_duplicates.loc[index,\"manifest_permission\"]=listToString(apk_permission)\n",
    "        # 2.5 Write file\n",
    "        #drop_duplicates.to_csv(\"C:\\\\Users\\\\ASUS\\\\anaconda3\\\\phd_implement\\\\\"+category_name+\"_category\\\\\"+category_name+\"_static_analysis.csv\",index=False)\n",
    "        df.to_csv(\"C:\\\\Users\\\\ASUS\\\\anaconda3\\\\metadata-gdpr-client\\\\leaking_list_report_static_analysis.csv\",index=False)\n",
    "        # 2.5 Delete completed static analysis\n",
    "        delete_data = CurlPostDataForm()\n",
    "        delete_data[\"hash\"] = apk_upload_hash\n",
    "        delete_response,delete_code = curl_post(apk_delete_scan_url, delete_data, MOBSF_API_KEY)\n",
    "        if(delete_code==200):\n",
    "            print(\"Deleted scan file \"+apkfile_name+\" success!\")\n",
    "        else:\n",
    "            print(\"Deleted scan file \"+apkfile_name+\" error!\")\n",
    "            break\n",
    "    except Exception as e:\n",
    "        df.loc[df['apkfile_name'] == apkfile_name, 'manifest_permission'] = \"Duplicated\"\n",
    "        continue\n",
    "    #break"
   ]
  }
 ],
 "metadata": {
  "kernelspec": {
   "display_name": "Python 3 (ipykernel)",
   "language": "python",
   "name": "python3"
  },
  "language_info": {
   "codemirror_mode": {
    "name": "ipython",
    "version": 3
   },
   "file_extension": ".py",
   "mimetype": "text/x-python",
   "name": "python",
   "nbconvert_exporter": "python",
   "pygments_lexer": "ipython3",
   "version": "3.9.13"
  }
 },
 "nbformat": 4,
 "nbformat_minor": 5
}
